{
 "cells": [
  {
   "cell_type": "markdown",
   "id": "9de3a486-b1d0-4c08-be1a-02857f950a21",
   "metadata": {},
   "source": [
    "### 시간대별 역별 승하차인원"
   ]
  },
  {
   "cell_type": "code",
   "execution_count": 26,
   "id": "fd0e76d4-67fa-4d58-bf53-ce7d01669b7e",
   "metadata": {},
   "outputs": [],
   "source": [
    "import pandas as pd\n",
    "\n",
    "df = pd.read_csv(\"C:/Users/82102/OneDrive/바탕 화면/경희대학교/동아리/쿠다/ML_session/toy_project/raw_data/서울시 지하철 호선별 역별 시간대별 승하차 인원 정보.csv\", encoding='cp949')"
   ]
  },
  {
   "cell_type": "code",
   "execution_count": 28,
   "id": "1e98742e-2feb-482d-994e-8dc243c03a4a",
   "metadata": {},
   "outputs": [],
   "source": [
    "# 7호선 202301-202406 추출\n",
    "df = df[df['호선명'] == '7호선']\n",
    "df['사용월'] = df['사용월'].astype(str)\n",
    "df = df[df['사용월'].between('202301', '202406')]\n",
    "df=df.drop('작업일자', axis=1)"
   ]
  },
  {
   "cell_type": "code",
   "execution_count": 29,
   "id": "4ffa13aa-9513-463c-a056-de0dbadd77c2",
   "metadata": {},
   "outputs": [],
   "source": [
    "# 역별 승차/하차인원 평균\n",
    "df['지하철역'] = df['지하철역'].astype(str)\n",
    "df=df.groupby('지하철역').sum(numeric_only=True).div(366).reset_index()"
   ]
  },
  {
   "cell_type": "code",
   "execution_count": 30,
   "id": "8cc779e5-51a1-4ea6-b2b6-b37d1165590c",
   "metadata": {},
   "outputs": [],
   "source": [
    "# 역별 승하차인원\n",
    "indexes = df.index\n",
    "r = []\n",
    "for i in range(5):\n",
    "    total = {\"key\": \"0%d시-0%d시 총 승하차인원\" %(i+4, i+5), \"value\": df[\"0%d시-0%d시 승차인원\" %(i+4, i+5)] + df[\"0%d시-0%d시 하차인원\" %(i+4, i+5)]}\n",
    "    r.append(total)\n",
    "\n",
    "total = {\"key\": \"9시-10시 총 승하차인원\", \"value\": df[\"09시-10시 승차인원\"] + df[\"09시-10시 하차인원\"]}\n",
    "r.append(total)\n",
    "\n",
    "for i in range(6, 19):\n",
    "    total = {\"key\": \"%d시-%d시 총 승하차인원\" %(i+4, i+5), \"value\": df[\"%d시-%d시 승차인원\" %(i+4, i+5)] + df[\"%d시-%d시 하차인원\" %(i+4, i+5)]}\n",
    "    r.append(total)\n",
    "\n",
    "total = {\"key\": \"00시-01시 총 승하차인원\", \"value\": df[\"00시-01시 승차인원\"] + df[\"00시-01시 하차인원\"]}\n",
    "r.append(total)\n",
    "\n",
    "for i in range(4):\n",
    "    total = {\"key\" : \"0%d시-0%d시 총 승하차인원\" %(i, i+1), \"value\": df[\"0%d시-0%d시 승차인원\" %(i, i+1)] + df[\"0%d시-0%d시 하차인원\" %(i, i+1)]}\n",
    "    r.append(total)\n",
    "\n",
    "df = pd.DataFrame()\n",
    "for el in r:\n",
    "    df[el[\"key\"]] =  el[\"value\"]\n",
    "\n",
    "df.index = indexes"
   ]
  },
  {
   "cell_type": "code",
   "execution_count": 31,
   "id": "5b3a6f09-2da2-4e29-b6a0-1e0ff0c0c058",
   "metadata": {},
   "outputs": [],
   "source": [
    "df.to_csv(\"personnel_time.csv\", encoding=\"utf-8-sig\")"
   ]
  }
 ],
 "metadata": {
  "kernelspec": {
   "display_name": "Python 3 (ipykernel)",
   "language": "python",
   "name": "python3"
  },
  "language_info": {
   "codemirror_mode": {
    "name": "ipython",
    "version": 3
   },
   "file_extension": ".py",
   "mimetype": "text/x-python",
   "name": "python",
   "nbconvert_exporter": "python",
   "pygments_lexer": "ipython3",
   "version": "3.12.5"
  }
 },
 "nbformat": 4,
 "nbformat_minor": 5
}
